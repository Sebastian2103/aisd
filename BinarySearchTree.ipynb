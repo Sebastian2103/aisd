{
  "nbformat": 4,
  "nbformat_minor": 0,
  "metadata": {
    "colab": {
      "provenance": [],
      "authorship_tag": "ABX9TyPjibOGTbWVwsnJyYbW+JVM",
      "include_colab_link": true
    },
    "kernelspec": {
      "name": "python3",
      "display_name": "Python 3"
    },
    "language_info": {
      "name": "python"
    }
  },
  "cells": [
    {
      "cell_type": "markdown",
      "metadata": {
        "id": "view-in-github",
        "colab_type": "text"
      },
      "source": [
        "<a href=\"https://colab.research.google.com/github/Sebastian2103/aisd/blob/main/BinarySearchTree.ipynb\" target=\"_parent\"><img src=\"https://colab.research.google.com/assets/colab-badge.svg\" alt=\"Open In Colab\"/></a>"
      ]
    },
    {
      "cell_type": "code",
      "execution_count": 135,
      "metadata": {
        "id": "vGjownJq3_k7"
      },
      "outputs": [],
      "source": [
        "from typing import Any, List\n",
        "from graphviz import Graph"
      ]
    },
    {
      "cell_type": "code",
      "source": [
        "class BinaryNode:\n",
        "  value: Any\n",
        "  left_child: 'BinaryNode'\n",
        "  right_child: 'BinaryNode'\n",
        "\n",
        "  def __init__(self, value: Any) -> None:\n",
        "    self.value = value\n",
        "    self.left_child = None\n",
        "    self.right_child = None\n",
        "\n",
        "  def min(self) -> 'BinaryNode':\n",
        "    if self.left_child:\n",
        "      return self.left_child.min()\n",
        "    return self\n",
        "  \n",
        "  def __str__(self) -> str:\n",
        "    return str(self.value)\n",
        "\n",
        "  def show(self, tree=Graph('tree')):\n",
        "      tree.node(str(self), str(self), shape='oval', fontcolor=\"red\", fontsize=\"20\")\n",
        "      if self.left_child:\n",
        "          tree.edge(str(self), str(self.left_child), label=\"L\")\n",
        "          self.left_child.show()\n",
        "      if self.right_child:\n",
        "          tree.edge(str(self), str(self.right_child), label=\"P\")\n",
        "          self.right_child.show()\n",
        "      return tree"
      ],
      "metadata": {
        "id": "qBLFSpZm4DDL"
      },
      "execution_count": 136,
      "outputs": []
    },
    {
      "cell_type": "code",
      "source": [
        "class BinarySearchTree:\n",
        "    root: BinaryNode\n",
        "\n",
        "    def __init__(self, root) -> None:\n",
        "        self.root = root\n",
        "\n",
        "    def insert(self, value: Any) -> None:\n",
        "        if not self.contains(value):\n",
        "          self.root = self.__insert(self.root, value)\n",
        "        else:\n",
        "          return print(f\"Taka wartość juz jest!\")\n",
        "\n",
        "    def __insert(self, node: BinaryNode, value: Any) -> BinaryNode:\n",
        "        if node:\n",
        "            if value < node.value:\n",
        "                node.left_child = self.__insert(node.left_child, value)\n",
        "            else:\n",
        "                node.right_child = self.__insert(node.right_child, value)\n",
        "        else:\n",
        "            node = BinaryNode(value)\n",
        "        return node\n",
        "\n",
        "    def insert_list(self, list: List[Any]) -> None:\n",
        "        for j in list:\n",
        "            self.insert(j)\n",
        "\n",
        "    def contains(self, value: Any) -> bool:\n",
        "        foo = self.root\n",
        "        while foo:\n",
        "            if value == foo.value:\n",
        "                return True\n",
        "            if value < foo.value:\n",
        "                foo = foo.left_child\n",
        "            else:\n",
        "                foo = foo.right_child\n",
        "        return False\n",
        "\n",
        "    def remove(self, value: Any) -> None:\n",
        "        if self.contains(value):\n",
        "            self.root = self.__remove(self.root, value)\n",
        "        else:\n",
        "          return print(\"Nie ma takiej wartości\")\n",
        "\n",
        "    def __remove(self, node: BinaryNode, value: Any) -> BinaryNode:\n",
        "        if value == node.value:\n",
        "            if node.left_child and node.right_child:\n",
        "                node.value = node.right_child.min().value\n",
        "                node.right_child = self.__remove(node.right_child, node.right_child.min().value)\n",
        "            elif node.left_child:\n",
        "                node = node.left_child\n",
        "            elif node.right_child:\n",
        "                node = node.right_child\n",
        "            else:\n",
        "                if node == self.root:\n",
        "                    node.value = None\n",
        "                else:\n",
        "                  node = None\n",
        "        elif value < node.value:\n",
        "            node.left_child = self.__remove(node.left_child, value)\n",
        "        else:\n",
        "            node.right_child = self.__remove(node.right_child, value)\n",
        "        return node\n",
        "        \n",
        "\n",
        "    def show(self) -> None:\n",
        "        self.root.show().render(filename='BinarySearchTree', format='jpeg')\n"
      ],
      "metadata": {
        "id": "QIphEpuX4Fxz"
      },
      "execution_count": 137,
      "outputs": []
    },
    {
      "cell_type": "code",
      "source": [
        "def main() -> None:\n",
        "    drzewo = BinarySearchTree(BinaryNode(8))\n",
        "    print(drzewo.root.min())\n",
        "    drzewo.insert_list([3,10,1,6,14,4,7,13])\n",
        "    drzewo.remove(8)\n",
        "    print(drzewo.root.min())\n",
        "    drzewo.insert(10)\n",
        "    drzewo.remove(100)\n",
        "    drzewo.show()"
      ],
      "metadata": {
        "id": "3acG4hpW4wjU"
      },
      "execution_count": 138,
      "outputs": []
    },
    {
      "cell_type": "code",
      "source": [
        "main()"
      ],
      "metadata": {
        "colab": {
          "base_uri": "https://localhost:8080/"
        },
        "id": "1qlFdJ0c5PBi",
        "outputId": "ec84ed69-ad87-49a3-8240-bf9254056f58"
      },
      "execution_count": 139,
      "outputs": [
        {
          "output_type": "stream",
          "name": "stdout",
          "text": [
            "8\n",
            "1\n",
            "Taka wartość juz jest!\n",
            "Nie ma takiej wartości\n"
          ]
        }
      ]
    }
  ]
}